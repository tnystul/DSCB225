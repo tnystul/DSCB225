{
  "nbformat": 4,
  "nbformat_minor": 0,
  "metadata": {
    "colab": {
      "provenance": [],
      "authorship_tag": "ABX9TyNm3vr0X+iOSfT8gYmF6z5f",
      "include_colab_link": true
    },
    "kernelspec": {
      "name": "python3",
      "display_name": "Python 3"
    },
    "language_info": {
      "name": "python"
    }
  },
  "cells": [
    {
      "cell_type": "markdown",
      "metadata": {
        "id": "view-in-github",
        "colab_type": "text"
      },
      "source": [
        "<a href=\"https://colab.research.google.com/github/tnystul/DSCB225/blob/main/Code/Image_Analysis_Problem_Set.ipynb\" target=\"_parent\"><img src=\"https://colab.research.google.com/assets/colab-badge.svg\" alt=\"Open In Colab\"/></a>"
      ]
    },
    {
      "cell_type": "markdown",
      "source": [
        "#Import packages, functions, and data"
      ],
      "metadata": {
        "id": "xIHBCZsBf7DT"
      }
    },
    {
      "cell_type": "code",
      "execution_count": 1,
      "metadata": {
        "id": "7zm1XLbK8Bw-"
      },
      "outputs": [],
      "source": [
        "# import python packages\n",
        "\n",
        "import numpy as np\n",
        "import pandas as pd\n",
        "import matplotlib.pyplot as plt\n",
        "import matplotlib\n",
        "import skimage\n",
        "import plotly.express as px"
      ]
    },
    {
      "cell_type": "code",
      "source": [
        "# define functions\n",
        "\n",
        "def subtract_background(image, background):\n",
        "    dtype = image.dtype\n",
        "    return np.clip(image.astype(np.int16) - background, 0, 65535).astype(dtype)\n",
        "\n",
        "def random_cmap():\n",
        "    np.random.seed(42)\n",
        "    cmap = matplotlib.colors.ListedColormap (np.random.rand(256,4))\n",
        "    # value 0 should just be transparent\n",
        "    cmap.colors[:,3] = 0.5\n",
        "    cmap.colors[0,:] = 1\n",
        "    cmap.colors[0,3] = 0\n",
        "\n",
        "    # if image is a mask, color (last value) should be red\n",
        "    cmap.colors[-1,0] = 1\n",
        "    cmap.colors[-1,1:3] = 0\n",
        "    return cmap"
      ],
      "metadata": {
        "id": "hpHGgTv4A0Pz"
      },
      "execution_count": 2,
      "outputs": []
    },
    {
      "cell_type": "code",
      "source": [
        "%%capture\n",
        "!pip install -U tifffile\n",
        "!pip install -U aicsimageio\n",
        "\n",
        "from aicsimageio import AICSImage\n",
        "!pip install aicspylibczi>=3.1.1 fsspec>=2022.8.0"
      ],
      "metadata": {
        "id": "8Gybl3j8-Ice"
      },
      "execution_count": 3,
      "outputs": []
    },
    {
      "cell_type": "code",
      "source": [
        "!wget https://ucsf.box.com/shared/static/3ij7e92913368qargvrjjxg704ceo4sk.tif -O image.tif"
      ],
      "metadata": {
        "id": "-2UKLMKL-uzz",
        "colab": {
          "base_uri": "https://localhost:8080/"
        },
        "outputId": "c33c6dd9-1f62-4c17-a606-6ff9643a266e"
      },
      "execution_count": 4,
      "outputs": [
        {
          "output_type": "stream",
          "name": "stdout",
          "text": [
            "--2025-03-15 23:12:55--  https://ucsf.box.com/shared/static/3ij7e92913368qargvrjjxg704ceo4sk.tif\n",
            "Resolving ucsf.box.com (ucsf.box.com)... 74.112.186.157, 2620:117:bff0:12d::\n",
            "Connecting to ucsf.box.com (ucsf.box.com)|74.112.186.157|:443... connected.\n",
            "HTTP request sent, awaiting response... 301 Moved Permanently\n",
            "Location: /public/static/3ij7e92913368qargvrjjxg704ceo4sk.tif [following]\n",
            "--2025-03-15 23:12:56--  https://ucsf.box.com/public/static/3ij7e92913368qargvrjjxg704ceo4sk.tif\n",
            "Reusing existing connection to ucsf.box.com:443.\n",
            "HTTP request sent, awaiting response... 301 Moved Permanently\n",
            "Location: https://ucsf.app.box.com/public/static/3ij7e92913368qargvrjjxg704ceo4sk.tif [following]\n",
            "--2025-03-15 23:12:57--  https://ucsf.app.box.com/public/static/3ij7e92913368qargvrjjxg704ceo4sk.tif\n",
            "Resolving ucsf.app.box.com (ucsf.app.box.com)... 74.112.186.157, 2620:117:bff0:12d::\n",
            "Connecting to ucsf.app.box.com (ucsf.app.box.com)|74.112.186.157|:443... connected.\n",
            "HTTP request sent, awaiting response... 302 Found\n",
            "Location: https://public.boxcloud.com/d/1/b1!KJYSrEz2QaQ8OrqcK8eu419FsrB6cddg-27nBT4jmMC6fGYtf542DrXdvHJzbEdCsyx5fcN7HQDwWiDetfx8uoikbxh8yohmQFRjvfMl4jLOCx2eLk92TB9DMQpgm3EoI4HJ0dC24_eEECwQthbaMkoN6TY01Kv1aYOPB6VW-XmliZZgyNn4t5zptwLy2846EDrDgRF7RSmZdYvuXFPOa4fb_i55rX1Elr134gWCtN9rd_oqOMslVlxK8vmgyzGJznY-bSjd1G2DYNmNlqxinOkQxjBHfwM-nYu9elD5ZHYGr-YhabpDcbPnxSXX9XMR341L52fmw8LzBAtjD6IOD8_1DY5LRuV-Otsdqws50NJQL6Jy0LqJ5d4zvy0uUBHiNygBd2kYVypFB7PVUHVmDAK1XCEkRPTeqWXgyurx7e_-lNGlICfqTXxBl_bFgyP5m2nZxmYcA7srCbfk50kM3NZ7Ilwrro0V2f9ATnFoS3ewjFk9fVzxQlg9PKXp2FOjUW2cjTHA820kjpCeOFnO794V1yWRKQgD8UKRDvCzZhmIdItjbM_02k3e0_b9SEhuNIXqlTp6xQgrYNlgj4nEsGeMQiTa2Zyury4m2uMHNBCpGO96-cUUCeoPE-4eQg96F7YDr5BWuZMoLDuAM7Cd8wfVCELj7odNo6JyR9gcrEIr8aYe2-g0jH88oAAjucd5Z39xJ_xdRnkgz7EteX8kP19RsfGJIEAODDj0fDoytotlO2SuIrqbh6PveTEFWgTnwE7e_fBZm3v_JinUkEXztJJgoQHog-NtMBzf6RhimP2eD_71SEa0afDIlIVyAQGnrwZQOJOsCNtgNwE5Zc0aDjIIEYxnpLNhdpm6TMnHbmLLw2V21I9pvGNvt8Rlno-paE90rZWAagiPcrdsSYeq9JCYLi4nrP430-455IxjglKfUj-iEhC7iadLHXjF3L27YBwdjwanamQtsgDsfw-W6r4leqOafB6RFPMOZW3_CfiufeS1ADiS4CWpaG-AzmymvVAsKcCJUDGlMctASLIgpMawAGWY6syX5P3WZMMhxM-YhxDiPgnc8IMi9nmPMTFYLoj88gBbR_oofJEFuVn67kXItdw6Zojr3quYBjLD9u14pewgmZjZnxF09h1Kx7_Xux5MS4SpVGno6DcInysN-sstfeNSQ9EBl9QxelGlM5Q0UFkon7iAtEPAuZ45tpuiXvr7hzeXQODGLwsLmdl9fcwuHZZEf8D9Is7UpD_GVjIbf2m1AlwsQAoeDFT1zUFgWNMl65Uk2Z2iqacVpC-5CSWGLms3yq8LkqawdCBKvXq464A1utBBJOMdVgkO9vGd-yfeT_44nTX6vgnYpt3E7Pl1Dyiy4v9HuhD9K-WHNczJWroJwJJKwfdstMtlaRUsDIDGKkV_5oGshqRQXivSYN9zZs5owqgfyV2LvD2Sj-TUK8vc5q5B9Rys4YX9F-LNtKg77y3zSKw078uXPtHFRGNFcGcFxnfGsb4j7j0NjdHbOGMr9-WPiw../download [following]\n",
            "--2025-03-15 23:12:58--  https://public.boxcloud.com/d/1/b1!KJYSrEz2QaQ8OrqcK8eu419FsrB6cddg-27nBT4jmMC6fGYtf542DrXdvHJzbEdCsyx5fcN7HQDwWiDetfx8uoikbxh8yohmQFRjvfMl4jLOCx2eLk92TB9DMQpgm3EoI4HJ0dC24_eEECwQthbaMkoN6TY01Kv1aYOPB6VW-XmliZZgyNn4t5zptwLy2846EDrDgRF7RSmZdYvuXFPOa4fb_i55rX1Elr134gWCtN9rd_oqOMslVlxK8vmgyzGJznY-bSjd1G2DYNmNlqxinOkQxjBHfwM-nYu9elD5ZHYGr-YhabpDcbPnxSXX9XMR341L52fmw8LzBAtjD6IOD8_1DY5LRuV-Otsdqws50NJQL6Jy0LqJ5d4zvy0uUBHiNygBd2kYVypFB7PVUHVmDAK1XCEkRPTeqWXgyurx7e_-lNGlICfqTXxBl_bFgyP5m2nZxmYcA7srCbfk50kM3NZ7Ilwrro0V2f9ATnFoS3ewjFk9fVzxQlg9PKXp2FOjUW2cjTHA820kjpCeOFnO794V1yWRKQgD8UKRDvCzZhmIdItjbM_02k3e0_b9SEhuNIXqlTp6xQgrYNlgj4nEsGeMQiTa2Zyury4m2uMHNBCpGO96-cUUCeoPE-4eQg96F7YDr5BWuZMoLDuAM7Cd8wfVCELj7odNo6JyR9gcrEIr8aYe2-g0jH88oAAjucd5Z39xJ_xdRnkgz7EteX8kP19RsfGJIEAODDj0fDoytotlO2SuIrqbh6PveTEFWgTnwE7e_fBZm3v_JinUkEXztJJgoQHog-NtMBzf6RhimP2eD_71SEa0afDIlIVyAQGnrwZQOJOsCNtgNwE5Zc0aDjIIEYxnpLNhdpm6TMnHbmLLw2V21I9pvGNvt8Rlno-paE90rZWAagiPcrdsSYeq9JCYLi4nrP430-455IxjglKfUj-iEhC7iadLHXjF3L27YBwdjwanamQtsgDsfw-W6r4leqOafB6RFPMOZW3_CfiufeS1ADiS4CWpaG-AzmymvVAsKcCJUDGlMctASLIgpMawAGWY6syX5P3WZMMhxM-YhxDiPgnc8IMi9nmPMTFYLoj88gBbR_oofJEFuVn67kXItdw6Zojr3quYBjLD9u14pewgmZjZnxF09h1Kx7_Xux5MS4SpVGno6DcInysN-sstfeNSQ9EBl9QxelGlM5Q0UFkon7iAtEPAuZ45tpuiXvr7hzeXQODGLwsLmdl9fcwuHZZEf8D9Is7UpD_GVjIbf2m1AlwsQAoeDFT1zUFgWNMl65Uk2Z2iqacVpC-5CSWGLms3yq8LkqawdCBKvXq464A1utBBJOMdVgkO9vGd-yfeT_44nTX6vgnYpt3E7Pl1Dyiy4v9HuhD9K-WHNczJWroJwJJKwfdstMtlaRUsDIDGKkV_5oGshqRQXivSYN9zZs5owqgfyV2LvD2Sj-TUK8vc5q5B9Rys4YX9F-LNtKg77y3zSKw078uXPtHFRGNFcGcFxnfGsb4j7j0NjdHbOGMr9-WPiw../download\n",
            "Resolving public.boxcloud.com (public.boxcloud.com)... 74.112.186.165, 2620:117:bff0:69::\n",
            "Connecting to public.boxcloud.com (public.boxcloud.com)|74.112.186.165|:443... connected.\n",
            "HTTP request sent, awaiting response... 200 OK\n",
            "Length: 254517 (249K) [image/tiff]\n",
            "Saving to: ‘image.tif’\n",
            "\n",
            "image.tif           100%[===================>] 248.55K   856KB/s    in 0.3s    \n",
            "\n",
            "2025-03-15 23:12:59 (856 KB/s) - ‘image.tif’ saved [254517/254517]\n",
            "\n"
          ]
        }
      ]
    },
    {
      "cell_type": "code",
      "source": [
        "data = AICSImage('/content/image.tif')\n",
        "data.shape"
      ],
      "metadata": {
        "id": "U3kDVTTn-20K",
        "colab": {
          "base_uri": "https://localhost:8080/"
        },
        "outputId": "e3d75043-bc67-4a21-c7b5-479487cc7629"
      },
      "execution_count": 5,
      "outputs": [
        {
          "output_type": "execute_result",
          "data": {
            "text/plain": [
              "(1, 3, 1, 241, 349)"
            ]
          },
          "metadata": {},
          "execution_count": 5
        }
      ]
    },
    {
      "cell_type": "code",
      "source": [
        "img = data.get_image_dask_data('CYX', c=1)\n",
        "img.shape"
      ],
      "metadata": {
        "id": "tNpc67o9_mS5",
        "colab": {
          "base_uri": "https://localhost:8080/"
        },
        "outputId": "d9f75684-f9ad-497b-cc48-527b96b10fe4"
      },
      "execution_count": 6,
      "outputs": [
        {
          "output_type": "execute_result",
          "data": {
            "text/plain": [
              "(3, 241, 349)"
            ]
          },
          "metadata": {},
          "execution_count": 6
        }
      ]
    },
    {
      "cell_type": "markdown",
      "source": [
        "# Segment the DAPI channel and count the number of cells in the image"
      ],
      "metadata": {
        "id": "MxPtgOphAgrl"
      }
    },
    {
      "cell_type": "code",
      "source": [
        "# View the three channels using the plt.subplots function\n",
        "\n"
      ],
      "metadata": {
        "id": "vZ25MJCmApAa"
      },
      "execution_count": 7,
      "outputs": []
    },
    {
      "cell_type": "code",
      "source": [
        " # plot them again, this time adding titles for the Golgi, nuclei, and cytoplasm channels\n",
        "\n"
      ],
      "metadata": {
        "id": "v6mO5bCjBh1S"
      },
      "execution_count": 8,
      "outputs": []
    },
    {
      "cell_type": "markdown",
      "source": [
        "Use the px.histogram function to plot a histogram of the intensity values in\n",
        "the Nuclei channel"
      ],
      "metadata": {
        "id": "h9S6Chg5DJ6m"
      }
    },
    {
      "cell_type": "code",
      "source": [],
      "metadata": {
        "id": "aY6S0VpvB5mC"
      },
      "execution_count": 8,
      "outputs": []
    },
    {
      "cell_type": "markdown",
      "source": [
        "Based on the results of the histogram, plot 4 background subtraction options"
      ],
      "metadata": {
        "id": "RN_JNHblDQyX"
      }
    },
    {
      "cell_type": "code",
      "source": [],
      "metadata": {
        "id": "8WAbo-7xDil6"
      },
      "execution_count": 8,
      "outputs": []
    },
    {
      "cell_type": "markdown",
      "source": [
        "Pick the one that looks best (in my answer, they all look pretty similar) and use that value to generate an image with the background subtracted from the Nuclei channel"
      ],
      "metadata": {
        "id": "xYYO-bUtD8cS"
      }
    },
    {
      "cell_type": "code",
      "source": [],
      "metadata": {
        "id": "IeQ2PPVhEHcz"
      },
      "execution_count": 8,
      "outputs": []
    },
    {
      "cell_type": "markdown",
      "source": [
        "Use the otsu filter to calculate a threshold for the Nuclei channel"
      ],
      "metadata": {
        "id": "VP9Mv4UZEZHJ"
      }
    },
    {
      "cell_type": "code",
      "source": [],
      "metadata": {
        "id": "dMzv0diDEeDJ"
      },
      "execution_count": 8,
      "outputs": []
    },
    {
      "cell_type": "markdown",
      "source": [
        "Generate a mask of the Nuclei channel using the otsu value.  Then, use the plt function to view the image and the mask side-by-side"
      ],
      "metadata": {
        "id": "l2xwe9IeEirD"
      }
    },
    {
      "cell_type": "code",
      "source": [],
      "metadata": {
        "id": "BuA8wixiEnkc"
      },
      "execution_count": 8,
      "outputs": []
    },
    {
      "cell_type": "code",
      "source": [],
      "metadata": {
        "id": "QKBnLG0mEzl_"
      },
      "execution_count": 8,
      "outputs": []
    },
    {
      "cell_type": "code",
      "source": [
        "def generate_template(radius):\n",
        "  template = np.zeros((60,60))\n",
        "  center = [(template.shape[0]-1)/2,(template.shape[1]-1)/2]\n",
        "  Y, X = np.mgrid[0:template.shape[0],0:template.shape[1]]\n",
        "  dist_from_center = np.sqrt((X - center[0])**2 + (Y-center[1])**2)\n",
        "  template[dist_from_center<=radius] = 1\n",
        "  return(template)"
      ],
      "metadata": {
        "id": "Kp9RUVnAHhKh"
      },
      "execution_count": 9,
      "outputs": []
    },
    {
      "cell_type": "markdown",
      "source": [
        "Using the function above, write a for loop that will sample radii ranging from 10-18 and plot the results in a 3 x 3 grid.\n",
        "\n",
        "*   Use ax = fig.add_subplot(3,3,x+1) to set up the subplots\n",
        "*   Use ax.imshow to show the Nuclei\n",
        "*   Use ax.scatter to show the local max indices\n",
        "*   Use ax.title.set_text to title each subplot with the radius value\n",
        "\n"
      ],
      "metadata": {
        "id": "ZyYOqRTuNC_Z"
      }
    },
    {
      "cell_type": "code",
      "source": [
        "\n"
      ],
      "metadata": {
        "id": "4YzV1q0wHogO"
      },
      "execution_count": 9,
      "outputs": []
    },
    {
      "cell_type": "markdown",
      "source": [
        "Select the radius value you like the most and use it to\n",
        "\n",
        "*   Generate an array of local maxima called local_max_indicies\n",
        "*   Generate a boolean array of the local maxima\n",
        "*   Eliminate the points that do not overlap with the image mask\n",
        "*   Get the peak coordinates\n",
        "*   Plot the peaks on top of the Nuclear channel of the image"
      ],
      "metadata": {
        "id": "BcZRnPJRP7e9"
      }
    },
    {
      "cell_type": "code",
      "source": [],
      "metadata": {
        "id": "egTO0hnPQ9II"
      },
      "execution_count": 9,
      "outputs": []
    },
    {
      "cell_type": "code",
      "source": [],
      "metadata": {
        "id": "6fXUB2sGRmN1"
      },
      "execution_count": 9,
      "outputs": []
    },
    {
      "cell_type": "code",
      "source": [],
      "metadata": {
        "id": "c2mkktQcR4PK"
      },
      "execution_count": 9,
      "outputs": []
    },
    {
      "cell_type": "code",
      "source": [],
      "metadata": {
        "id": "mjKHdvNmUXCZ"
      },
      "execution_count": 9,
      "outputs": []
    },
    {
      "cell_type": "code",
      "source": [],
      "metadata": {
        "id": "bLBNRBskRcQl"
      },
      "execution_count": 9,
      "outputs": []
    },
    {
      "cell_type": "markdown",
      "source": [
        "Segment the image by\n",
        "\n",
        "*   Generating labels from the masked peaks\n",
        "*   Running the watershed algorithm, using img_p, the masked peaks, and the img_mask as inputs\n",
        "*   define cmap using the random_cmap function and then plot the Nuclei and watershed labels together\n",
        "\n"
      ],
      "metadata": {
        "id": "8npXswePVAtM"
      }
    },
    {
      "cell_type": "code",
      "source": [],
      "metadata": {
        "id": "WtQJqC99U4W9"
      },
      "execution_count": 9,
      "outputs": []
    },
    {
      "cell_type": "code",
      "source": [],
      "metadata": {
        "id": "32p6fqLeV4AR"
      },
      "execution_count": 9,
      "outputs": []
    },
    {
      "cell_type": "markdown",
      "source": [
        "Does that look right?  Try rerunning the watershed function again but this time, add in compactness = 3 as an additional parameter and plot the image and labels again.  What changed?"
      ],
      "metadata": {
        "id": "U5Gft1-EYxp0"
      }
    },
    {
      "cell_type": "code",
      "source": [],
      "metadata": {
        "id": "BiCtxojVYwzb"
      },
      "execution_count": 9,
      "outputs": []
    },
    {
      "cell_type": "code",
      "source": [],
      "metadata": {
        "id": "Sdp6gVRgZCK1"
      },
      "execution_count": 9,
      "outputs": []
    },
    {
      "cell_type": "markdown",
      "source": [
        "Generate a regionprops table and print its shape.  How many nuclei are segmented in this image?"
      ],
      "metadata": {
        "id": "YjfoFrGrZr2k"
      }
    },
    {
      "cell_type": "code",
      "source": [],
      "metadata": {
        "id": "gsoO9SftZaRw"
      },
      "execution_count": 9,
      "outputs": []
    },
    {
      "cell_type": "code",
      "source": [],
      "metadata": {
        "id": "r2RJ8IdgZjBr"
      },
      "execution_count": 9,
      "outputs": []
    },
    {
      "cell_type": "markdown",
      "source": [
        "# Segment the cytoplasm channel and quantify the mean signal intensity per cell"
      ],
      "metadata": {
        "id": "bdyk4vwVfzaI"
      }
    },
    {
      "cell_type": "markdown",
      "source": [
        "Now, generate a cytoplasm mask performing the following steps:\n",
        "\n",
        "*   Create a \"watershed mask\" of the Cytoplasm channel using the same labels you generated from the masked peaks and the watershed segmentation tool (set compactness = 1)\n",
        "*   Create a \"foreground mask\" that identifies all the pixels with an intensity above 20 in the Cytoplasm channel.  \n",
        "*   Remove the parts of the watershed mask that **do** overlap the nuclear masks, so the nuclear signal doesn't contribute to the nuclear signal\n",
        "*   Remove the parts of the watershed mask that **do not** overlap with the foreground mask\n",
        "\n",
        "Note, although masks are boolean (T/F) arrays, they can be used in equations and python interprets True as 1 and False as 0"
      ],
      "metadata": {
        "id": "7mxd5x4CZbhh"
      }
    },
    {
      "cell_type": "code",
      "source": [],
      "metadata": {
        "id": "kAoLAiWVaA9C"
      },
      "execution_count": 9,
      "outputs": []
    },
    {
      "cell_type": "code",
      "source": [],
      "metadata": {
        "id": "SsNiPgOBy0Cy"
      },
      "execution_count": 9,
      "outputs": []
    },
    {
      "cell_type": "code",
      "source": [],
      "metadata": {
        "id": "Ug6fBE_IyagO"
      },
      "execution_count": 9,
      "outputs": []
    },
    {
      "cell_type": "markdown",
      "source": [
        "Display the results in a figure with 3 subplots:  one showing the cytoplasm signal, one showing the cytoplasm mask, and one showing both of these images merged together"
      ],
      "metadata": {
        "id": "c8oPz1szgC-D"
      }
    },
    {
      "cell_type": "code",
      "source": [],
      "metadata": {
        "id": "FP4LZeL3aNDU"
      },
      "execution_count": 9,
      "outputs": []
    },
    {
      "cell_type": "markdown",
      "source": [
        "Measure the mean intensity of the cytoplasm channel and store the results as a Pandas DataFrame"
      ],
      "metadata": {
        "id": "Cd7oqTcHgT0e"
      }
    },
    {
      "cell_type": "code",
      "source": [],
      "metadata": {
        "id": "1jO-43ZmzwI5"
      },
      "execution_count": 9,
      "outputs": []
    },
    {
      "cell_type": "code",
      "source": [],
      "metadata": {
        "id": "Q6Ati76kz1w2"
      },
      "execution_count": 9,
      "outputs": []
    },
    {
      "cell_type": "markdown",
      "source": [
        "Create a histogram showing the mean intensity values in each cell"
      ],
      "metadata": {
        "id": "40GjL9B0ge3e"
      }
    },
    {
      "cell_type": "code",
      "source": [],
      "metadata": {
        "id": "svXd-NlWz-N2"
      },
      "execution_count": 9,
      "outputs": []
    }
  ]
}